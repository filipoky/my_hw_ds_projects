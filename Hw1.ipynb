{
  "nbformat": 4,
  "nbformat_minor": 0,
  "metadata": {
    "colab": {
      "provenance": [],
      "authorship_tag": "ABX9TyNbrhmo7+HsXmroazo6WmLZ",
      "include_colab_link": true
    },
    "kernelspec": {
      "name": "python3",
      "display_name": "Python 3"
    },
    "language_info": {
      "name": "python"
    }
  },
  "cells": [
    {
      "cell_type": "markdown",
      "metadata": {
        "id": "view-in-github",
        "colab_type": "text"
      },
      "source": [
        "<a href=\"https://colab.research.google.com/github/filipoky/my_hw_ds_projects/blob/main/Hw1.ipynb\" target=\"_parent\"><img src=\"https://colab.research.google.com/assets/colab-badge.svg\" alt=\"Open In Colab\"/></a>"
      ]
    },
    {
      "cell_type": "code",
      "execution_count": 9,
      "metadata": {
        "colab": {
          "base_uri": "https://localhost:8080/"
        },
        "id": "22AT7g9RHh-F",
        "outputId": "45f63f6b-b973-4b67-c2ba-358d7c620f90"
      },
      "outputs": [
        {
          "output_type": "stream",
          "name": "stdout",
          "text": [
            "[ 1  2  3  4  5  6  7  8  9 10]\n"
          ]
        }
      ],
      "source": [
        "import numpy as np\n",
        "\n",
        "# 1. Одновимірний масив з перших 10 натуральних чисел\n",
        "a1 = np.arange(1, 11)\n",
        "print(a1)"
      ]
    },
    {
      "cell_type": "code",
      "source": [
        "# 2. Двовимірна матриця 3x3 з нулями\n",
        "a2 = np.zeros((3, 3))\n",
        "print(a2)\n"
      ],
      "metadata": {
        "colab": {
          "base_uri": "https://localhost:8080/"
        },
        "id": "hLe5zn9QMg3r",
        "outputId": "82f8bab9-28b6-4ace-ab1a-5f27df057601"
      },
      "execution_count": 8,
      "outputs": [
        {
          "output_type": "stream",
          "name": "stdout",
          "text": [
            "[[0. 0. 0.]\n",
            " [0. 0. 0.]\n",
            " [0. 0. 0.]]\n"
          ]
        }
      ]
    },
    {
      "cell_type": "code",
      "source": [
        "# 3. Матриця 5x5 з випадковими цілими від 1 до 10\n",
        "a3 = np.random.randint(1, 11, size=(5, 5))\n",
        "print(a3)"
      ],
      "metadata": {
        "colab": {
          "base_uri": "https://localhost:8080/"
        },
        "id": "b9kDFIWEM7VA",
        "outputId": "22713c7a-2f53-4a2f-ba92-2c417ee18ff4"
      },
      "execution_count": 7,
      "outputs": [
        {
          "output_type": "stream",
          "name": "stdout",
          "text": [
            "[[ 8  1  7  2  1]\n",
            " [ 6  5  2  8  1]\n",
            " [10  6  4  7  2]\n",
            " [ 9  4  1  5  7]\n",
            " [ 7  2  5 10  3]]\n"
          ]
        }
      ]
    },
    {
      "cell_type": "code",
      "source": [
        "# 4. Матриця 4x4 з випадковими дійсними числами від 0 до 1\n",
        "a4 = np.random.random((4, 4))\n",
        "print(a4)\n"
      ],
      "metadata": {
        "colab": {
          "base_uri": "https://localhost:8080/"
        },
        "id": "1YvFVDJZNWCx",
        "outputId": "d0f12511-08b2-41b0-d3ff-ec34be3bb646"
      },
      "execution_count": 10,
      "outputs": [
        {
          "output_type": "stream",
          "name": "stdout",
          "text": [
            "[[0.25185055 0.10031546 0.32600307 0.93157195]\n",
            " [0.67964581 0.62894556 0.89756962 0.16132537]\n",
            " [0.8984542  0.92271671 0.91222941 0.07607197]\n",
            " [0.61161754 0.79508123 0.99214268 0.93127448]]\n"
          ]
        }
      ]
    },
    {
      "cell_type": "code",
      "source": [
        "# 5. Два вектори, поелементні операції\n",
        "v1 = np.random.randint(1, 11, size=5)\n",
        "v2 = np.random.randint(1, 11, size=5)\n",
        "print(\"Вектори:\", v1, v2)\n",
        "print(\"Додавання:\", v1 + v2)\n",
        "print(\"Віднімання:\", v1 - v2)\n",
        "print(\"Множення:\", v1 * v2)\n"
      ],
      "metadata": {
        "colab": {
          "base_uri": "https://localhost:8080/"
        },
        "id": "uoqUuzyFNk5H",
        "outputId": "3209bfa5-92de-4090-e553-a6184dfef26a"
      },
      "execution_count": 12,
      "outputs": [
        {
          "output_type": "stream",
          "name": "stdout",
          "text": [
            "Вектори: [4 1 1 8 8] [1 2 3 4 3]\n",
            "Додавання: [ 5  3  4 12 11]\n",
            "Віднімання: [ 3 -1 -2  4  5]\n",
            "Множення: [ 4  2  3 32 24]\n"
          ]
        }
      ]
    },
    {
      "cell_type": "code",
      "source": [
        "# 6. Скалярний добуток векторів розміром 7\n",
        "v3 = np.random.random(7)\n",
        "v4 = np.random.random(7)\n",
        "dot_product = np.dot(v3, v4)\n",
        "print(v3)\n",
        "print(v4)\n",
        "print(dot_product)"
      ],
      "metadata": {
        "colab": {
          "base_uri": "https://localhost:8080/"
        },
        "id": "2WswllEONluX",
        "outputId": "a7ffe7b9-dc69-4be6-c78a-63306f4025e0"
      },
      "execution_count": 14,
      "outputs": [
        {
          "output_type": "stream",
          "name": "stdout",
          "text": [
            "[0.71369076 0.81530132 0.37679276 0.62265522 0.94128741 0.06112001\n",
            " 0.81762449]\n",
            "[0.42521155 0.78387184 0.03844721 0.53209624 0.14179318 0.10617827\n",
            " 0.56101252]\n",
            "1.8870157599311177\n"
          ]
        }
      ]
    },
    {
      "cell_type": "code",
      "source": [
        "# 7. Множення 2x2 і 2x3\n",
        "m1 = np.random.randint(1, 11, size=(2, 2))\n",
        "m2 = np.random.randint(1, 11, size=(2, 3))\n",
        "m_mult = np.dot(m1, m2)\n",
        "print(\"Матриці:\\n\", m1, \"\\n\", m2)\n",
        "print(\"Добуток:\\n\", m_mult)"
      ],
      "metadata": {
        "colab": {
          "base_uri": "https://localhost:8080/"
        },
        "id": "sAPEHVFoOzds",
        "outputId": "f973801b-382d-4e4c-93fd-c09d83cc7499"
      },
      "execution_count": 22,
      "outputs": [
        {
          "output_type": "stream",
          "name": "stdout",
          "text": [
            "Матриці:\n",
            " [[9 7]\n",
            " [2 4]] \n",
            " [[ 9  1  6]\n",
            " [10  7  9]]\n",
            "Добуток:\n",
            " [[151  58 117]\n",
            " [ 58  30  48]]\n"
          ]
        }
      ]
    },
    {
      "cell_type": "code",
      "source": [
        "# 8. Обернена матриця 3x3\n",
        "m3 = np.random.randint(1, 11, size=(3, 3))\n",
        "m3_inv = np.linalg.inv(m3)\n",
        "print(\"Матриця:\\n\", m3)\n",
        "print(\"Обернена:\\n\", m3_inv)"
      ],
      "metadata": {
        "colab": {
          "base_uri": "https://localhost:8080/"
        },
        "id": "-2KqfqqIPGAM",
        "outputId": "53818b24-4f39-4af3-83e6-d1a82cf6a2f9"
      },
      "execution_count": 21,
      "outputs": [
        {
          "output_type": "stream",
          "name": "stdout",
          "text": [
            "Матриця:\n",
            " [[6 4 2]\n",
            " [7 9 4]\n",
            " [4 7 2]]\n",
            "Обернена:\n",
            " [[ 0.38461538 -0.23076923  0.07692308]\n",
            " [-0.07692308 -0.15384615  0.38461538]\n",
            " [-0.5         1.         -1.        ]]\n"
          ]
        }
      ]
    },
    {
      "cell_type": "code",
      "source": [
        "# 9. Транспонована матриця 4x4\n",
        "m4 = np.random.random((4, 4))\n",
        "print(\"Матриця:\\n\", m4)\n",
        "print(\"Транспонована:\\n\", m4.T)"
      ],
      "metadata": {
        "colab": {
          "base_uri": "https://localhost:8080/"
        },
        "id": "Tnh0dSTBPHsG",
        "outputId": "e85c6b94-8050-40c8-8ae0-cf1f092a83cb"
      },
      "execution_count": 23,
      "outputs": [
        {
          "output_type": "stream",
          "name": "stdout",
          "text": [
            "Матриця:\n",
            " [[0.45250351 0.80673493 0.5363847  0.4218076 ]\n",
            " [0.35773566 0.72883853 0.08311354 0.27639752]\n",
            " [0.86688175 0.81594069 0.47078907 0.60602288]\n",
            " [0.08357617 0.77746731 0.29857111 0.25675801]]\n",
            "Транспонована:\n",
            " [[0.45250351 0.35773566 0.86688175 0.08357617]\n",
            " [0.80673493 0.72883853 0.81594069 0.77746731]\n",
            " [0.5363847  0.08311354 0.47078907 0.29857111]\n",
            " [0.4218076  0.27639752 0.60602288 0.25675801]]\n"
          ]
        }
      ]
    },
    {
      "cell_type": "code",
      "source": [
        "# 10. Матриця 3x4 * вектор 4\n",
        "m5 = np.random.randint(1, 11, size=(3, 4))\n",
        "v5 = np.random.randint(1, 11, size=4)\n",
        "mv_mult = np.dot(m5, v5)\n",
        "print(\"Матриця:\\n\", m5)\n",
        "print(\"Вектор:\", v5)\n",
        "print(\"Добуток:\", mv_mult)"
      ],
      "metadata": {
        "colab": {
          "base_uri": "https://localhost:8080/"
        },
        "id": "Jnsq7xhgPNfL",
        "outputId": "cb6a644a-3247-450d-9df8-f554a9f18a96"
      },
      "execution_count": 24,
      "outputs": [
        {
          "output_type": "stream",
          "name": "stdout",
          "text": [
            "Матриця:\n",
            " [[ 1  8  9  3]\n",
            " [ 6  9  5  7]\n",
            " [10  3 10  7]]\n",
            "Вектор: [10  1  1  3]\n",
            "Добуток: [ 36  95 134]\n"
          ]
        }
      ]
    },
    {
      "cell_type": "code",
      "source": [
        "# 11. Матриця 2x3 * вектор 3\n",
        "m6 = np.random.random((2, 3))\n",
        "v6 = np.random.random(3)\n",
        "mv_mult2 = np.dot(m6, v6)\n",
        "print(\"Матриця:\\n\", m6)\n",
        "print(\"Вектор:\", v6)\n",
        "print(\"Добуток:\", mv_mult2)"
      ],
      "metadata": {
        "colab": {
          "base_uri": "https://localhost:8080/"
        },
        "id": "aZgSmoTyPPM1",
        "outputId": "8e8e51f9-a214-47f3-eba8-110e33b83a61"
      },
      "execution_count": 25,
      "outputs": [
        {
          "output_type": "stream",
          "name": "stdout",
          "text": [
            "Матриця:\n",
            " [[0.466978   0.41828813 0.41691476]\n",
            " [0.78495957 0.09960048 0.53239233]]\n",
            "Вектор: [0.93928884 0.95130431 0.5451999 ]\n",
            "Добуток: [1.06384841 1.12231437]\n"
          ]
        }
      ]
    },
    {
      "cell_type": "code",
      "source": [
        "# 12. Поелементне множення 2x2\n",
        "m7 = np.random.randint(1, 11, size=(2, 2))\n",
        "m8 = np.random.randint(1, 11, size=(2, 2))\n",
        "elem_mult = m7 * m8\n",
        "print(\"Матриця1:\\n\", m7)\n",
        "print(\"Матриця2:\\n\", m8)\n",
        "print(\"Поелементне множення:\\n\", elem_mult)"
      ],
      "metadata": {
        "colab": {
          "base_uri": "https://localhost:8080/"
        },
        "id": "kRSS8MS6PQnI",
        "outputId": "3ed91366-8500-433e-b4ff-9533558d31a2"
      },
      "execution_count": 29,
      "outputs": [
        {
          "output_type": "stream",
          "name": "stdout",
          "text": [
            "Матриця1:\n",
            " [[ 3 10]\n",
            " [ 3  4]]\n",
            "Матриця2:\n",
            " [[1 3]\n",
            " [9 6]]\n",
            "Поелементне множення:\n",
            " [[ 3 30]\n",
            " [27 24]]\n"
          ]
        }
      ]
    },
    {
      "cell_type": "code",
      "source": [
        "# 13. Добуток матриць 2x2\n",
        "m9 = np.random.randint(1, 11, size=(2, 2))\n",
        "m10 = np.random.randint(1, 11, size=(2, 2))\n",
        "mat_mult = np.dot(m9, m10)\n",
        "print(\"Матриця1:\\n\", m9)\n",
        "print(\"Матриця2:\\n\", m10)\n",
        "print(\"Добуток матриць:\\n\", mat_mult)"
      ],
      "metadata": {
        "colab": {
          "base_uri": "https://localhost:8080/"
        },
        "id": "PMpozsSfPXE-",
        "outputId": "4f9109a2-cf83-4866-93ca-bf9a9d7f3250"
      },
      "execution_count": 30,
      "outputs": [
        {
          "output_type": "stream",
          "name": "stdout",
          "text": [
            "Матриця1:\n",
            " [[10  2]\n",
            " [ 2  4]]\n",
            "Матриця2:\n",
            " [[ 7 10]\n",
            " [ 7  4]]\n",
            "Добуток матриць:\n",
            " [[ 84 108]\n",
            " [ 42  36]]\n"
          ]
        }
      ]
    },
    {
      "cell_type": "code",
      "source": [
        "# 14. Сума елементів матриці 5x5\n",
        "m11 = np.random.randint(1, 101, size=(5, 5))\n",
        "sum_m11 = np.sum(m11)\n",
        "print(\"Матриця:\\n\",m11)\n",
        "print(\"Сума елементів 5x5:\", sum_m11)"
      ],
      "metadata": {
        "colab": {
          "base_uri": "https://localhost:8080/"
        },
        "id": "vEy3hxrLPYdv",
        "outputId": "a6ee4cb7-45d3-4b42-9ba5-c0da1969a8c1"
      },
      "execution_count": 34,
      "outputs": [
        {
          "output_type": "stream",
          "name": "stdout",
          "text": [
            "Матриця:\n",
            " [[43 91 24 25 99]\n",
            " [57 61 74 70 85]\n",
            " [15 57 86 79  7]\n",
            " [89 99 29 61 58]\n",
            " [67 82 13 52 26]]\n",
            "Сума елементів 5x5: 1449\n"
          ]
        }
      ]
    },
    {
      "cell_type": "code",
      "source": [
        "# 15. Різниця двох матриць 4x4\n",
        "m12 = np.random.randint(1, 11, size=(4, 4))\n",
        "m13 = np.random.randint(1, 11, size=(4, 4))\n",
        "diff = m12 - m13\n",
        "print(\"Матриця1:\\n\", m12)\n",
        "print(\"Матриця2:\\n\", m13)\n",
        "print(\"Різниця:\\n\", diff)"
      ],
      "metadata": {
        "colab": {
          "base_uri": "https://localhost:8080/"
        },
        "id": "7zoQA-1GPZyJ",
        "outputId": "7aa653b3-d8fb-4442-e471-472c4b69774f"
      },
      "execution_count": 35,
      "outputs": [
        {
          "output_type": "stream",
          "name": "stdout",
          "text": [
            "Матриця1:\n",
            " [[5 7 6 3]\n",
            " [2 4 4 4]\n",
            " [3 1 6 8]\n",
            " [8 5 6 9]]\n",
            "Матриця2:\n",
            " [[ 4  5  2  6]\n",
            " [ 8 10  3  4]\n",
            " [ 1  6  4  3]\n",
            " [ 3 10  2  5]]\n",
            "Різниця:\n",
            " [[ 1  2  4 -3]\n",
            " [-6 -6  1  0]\n",
            " [ 2 -5  2  5]\n",
            " [ 5 -5  4  4]]\n"
          ]
        }
      ]
    },
    {
      "cell_type": "code",
      "source": [
        "# 16. Сума по рядках 3x3\n",
        "m14 = np.random.random((3, 3))\n",
        "row_sums = np.sum(m14, axis=1)\n",
        "print(\"Матриця:\\n\", m14)\n",
        "print(\"Сума по рядках:\", row_sums)"
      ],
      "metadata": {
        "colab": {
          "base_uri": "https://localhost:8080/"
        },
        "id": "tfuyBUJzPau7",
        "outputId": "dea47d57-5218-4c41-fc00-da09ab29ae16"
      },
      "execution_count": 36,
      "outputs": [
        {
          "output_type": "stream",
          "name": "stdout",
          "text": [
            "Матриця:\n",
            " [[0.14855088 0.19907668 0.31176779]\n",
            " [0.77410681 0.79875395 0.49593046]\n",
            " [0.6174636  0.40519044 0.03352362]]\n",
            "Сума по рядках: [0.65939534 2.06879122 1.05617766]\n"
          ]
        }
      ]
    },
    {
      "cell_type": "code",
      "source": [
        "# 17. Квадрати чисел матриці 3x4\n",
        "m15 = np.random.randint(1, 11, size=(3, 4))\n",
        "m15_squared = m15 ** 2\n",
        "print(\"Матриця:\\n\", m15)\n",
        "print(\"Квадрати:\\n\", m15_squared)"
      ],
      "metadata": {
        "colab": {
          "base_uri": "https://localhost:8080/"
        },
        "id": "0DUJXnaePg4N",
        "outputId": "92180645-9983-46f8-9dff-afa5047c0070"
      },
      "execution_count": 37,
      "outputs": [
        {
          "output_type": "stream",
          "name": "stdout",
          "text": [
            "Матриця:\n",
            " [[ 4  5 10  1]\n",
            " [ 9  1  2  4]\n",
            " [10  3  4  3]]\n",
            "Квадрати:\n",
            " [[ 16  25 100   1]\n",
            " [ 81   1   4  16]\n",
            " [100   9  16   9]]\n"
          ]
        }
      ]
    },
    {
      "cell_type": "code",
      "source": [
        "# 18. Квадратні корені вектора розміром 4\n",
        "v7 = np.random.randint(1, 51, size=4)\n",
        "v7_sqrt = np.sqrt(v7)\n",
        "print(\"Вектор:\", v7)\n",
        "print(\"Квадратні корені:\", v7_sqrt)"
      ],
      "metadata": {
        "colab": {
          "base_uri": "https://localhost:8080/"
        },
        "id": "A_YZ_jU_PiQj",
        "outputId": "e7e3cf24-c63b-46b8-e7fb-371980413846"
      },
      "execution_count": 38,
      "outputs": [
        {
          "output_type": "stream",
          "name": "stdout",
          "text": [
            "Вектор: [17 22  4  3]\n",
            "Квадратні корені: [4.12310563 4.69041576 2.         1.73205081]\n"
          ]
        }
      ]
    }
  ]
}
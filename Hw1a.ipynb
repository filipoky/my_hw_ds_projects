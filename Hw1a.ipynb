{
  "nbformat": 4,
  "nbformat_minor": 0,
  "metadata": {
    "colab": {
      "provenance": [],
      "authorship_tag": "ABX9TyPtO/4XKF8bGBKITuQ8zPAu",
      "include_colab_link": true
    },
    "kernelspec": {
      "name": "python3",
      "display_name": "Python 3"
    },
    "language_info": {
      "name": "python"
    }
  },
  "cells": [
    {
      "cell_type": "markdown",
      "metadata": {
        "id": "view-in-github",
        "colab_type": "text"
      },
      "source": [
        "<a href=\"https://colab.research.google.com/github/filipoky/my_hw_ds_projects/blob/main/Hw1a.ipynb\" target=\"_parent\"><img src=\"https://colab.research.google.com/assets/colab-badge.svg\" alt=\"Open In Colab\"/></a>"
      ]
    },
    {
      "cell_type": "code",
      "execution_count": 1,
      "metadata": {
        "colab": {
          "base_uri": "https://localhost:8080/"
        },
        "id": "g0V9QXnDZ9Az",
        "outputId": "f607a0c9-5ca1-4bd1-e213-0916ccc1b837"
      },
      "outputs": [
        {
          "output_type": "stream",
          "name": "stdout",
          "text": [
            "[ 0 -1  2 -1  4 -1  6 -1  8 -1]\n"
          ]
        }
      ],
      "source": [
        "import numpy as np\n",
        "\n",
        "# 1. Заміна усіх непарних чисел на -1\n",
        "arr = np.array([0, 1, 2, 3, 4, 5, 6, 7, 8, 9])\n",
        "arr[arr % 2 == 1] = -1\n",
        "print(arr)"
      ]
    },
    {
      "cell_type": "code",
      "source": [
        "# 2. Створіть та перетворіть 1D-масив на 2D-масив із 2 рядками\n",
        "arr = np.arange(10)\n",
        "arr_2d = arr.reshape(2, -1)\n",
        "print(arr_2d)"
      ],
      "metadata": {
        "colab": {
          "base_uri": "https://localhost:8080/"
        },
        "id": "965QR5lpac7P",
        "outputId": "c5f011cf-1144-431e-928b-377c9e6a2a50"
      },
      "execution_count": 2,
      "outputs": [
        {
          "output_type": "stream",
          "name": "stdout",
          "text": [
            "[[0 1 2 3 4]\n",
            " [5 6 7 8 9]]\n"
          ]
        }
      ]
    },
    {
      "cell_type": "code",
      "source": [
        "# 3. Створіть два 2D масиви і складіть їх вертикально\n",
        "a = np.arange(4).reshape(2,2)\n",
        "b = np.arange(4,8).reshape(2,2)\n",
        "v_stack = np.vstack((a,b))\n",
        "print(v_stack)"
      ],
      "metadata": {
        "colab": {
          "base_uri": "https://localhost:8080/"
        },
        "id": "vSSJevUqbRFI",
        "outputId": "b9b3d071-1eed-4bca-fc29-03ee451c1fd7"
      },
      "execution_count": 3,
      "outputs": [
        {
          "output_type": "stream",
          "name": "stdout",
          "text": [
            "[[0 1]\n",
            " [2 3]\n",
            " [4 5]\n",
            " [6 7]]\n"
          ]
        }
      ]
    },
    {
      "cell_type": "code",
      "source": [
        "# 4. Створіть шаблон без Hard coding\n",
        "a = np.array([1,2,3])\n",
        "out = np.r_[np.repeat(a, 3), np.tile(a, 3)]\n",
        "print(out)"
      ],
      "metadata": {
        "colab": {
          "base_uri": "https://localhost:8080/"
        },
        "id": "VlrmEFXvbTy6",
        "outputId": "86ef84e2-ee24-4562-e537-ec9e923262bf"
      },
      "execution_count": 4,
      "outputs": [
        {
          "output_type": "stream",
          "name": "stdout",
          "text": [
            "[1 1 1 2 2 2 3 3 3 1 2 3 1 2 3 1 2 3]\n"
          ]
        }
      ]
    },
    {
      "cell_type": "code",
      "source": [
        "# 5. Отримайте спільні елементи між a і b\n",
        "a = np.array([1,2,3,2,3,4,3,4,5,6])\n",
        "b = np.array([7,2,10,2,7,4,9,4,9,8])\n",
        "common = np.intersect1d(a,b)\n",
        "print(common)"
      ],
      "metadata": {
        "colab": {
          "base_uri": "https://localhost:8080/"
        },
        "id": "y6kM-JA4bWUW",
        "outputId": "acf390af-9c92-4aef-83ac-f8147331d9db"
      },
      "execution_count": 5,
      "outputs": [
        {
          "output_type": "stream",
          "name": "stdout",
          "text": [
            "[2 4]\n"
          ]
        }
      ]
    },
    {
      "cell_type": "code",
      "source": [
        "# 6. Позиції перших 5 максимальних значень\n",
        "np.random.seed(100)\n",
        "a = np.random.uniform(1,50, 20)\n",
        "ind = np.argsort(a)[-5:][::-1]\n",
        "print(ind)"
      ],
      "metadata": {
        "colab": {
          "base_uri": "https://localhost:8080/"
        },
        "id": "NZKf9scmbYxj",
        "outputId": "dc4e9bc7-bc82-496f-c17a-95626b59ffff"
      },
      "execution_count": 6,
      "outputs": [
        {
          "output_type": "stream",
          "name": "stdout",
          "text": [
            "[15 10  3  7 18]\n"
          ]
        }
      ]
    },
    {
      "cell_type": "code",
      "source": [
        "# 7. Вилучіть NaN\n",
        "a = np.array([1,2,3,np.nan,5,6,7,np.nan])\n",
        "a_nonan = a[~np.isnan(a)]\n",
        "print(a_nonan)"
      ],
      "metadata": {
        "colab": {
          "base_uri": "https://localhost:8080/"
        },
        "id": "xnLMWw8eba8Y",
        "outputId": "238cc3a7-b51e-4764-8187-dc1074a4db4b"
      },
      "execution_count": 7,
      "outputs": [
        {
          "output_type": "stream",
          "name": "stdout",
          "text": [
            "[1. 2. 3. 5. 6. 7.]\n"
          ]
        }
      ]
    },
    {
      "cell_type": "code",
      "source": [
        "# 8. Евклідова відстань\n",
        "a = np.array([1,2,3,4,5])\n",
        "b = np.array([4,5,6,7,8])\n",
        "dist = np.linalg.norm(a - b)\n",
        "print(dist)"
      ],
      "metadata": {
        "colab": {
          "base_uri": "https://localhost:8080/"
        },
        "id": "bFazBL3TbdgD",
        "outputId": "d51023be-6ebf-4c3b-f070-c12ffeb86304"
      },
      "execution_count": 8,
      "outputs": [
        {
          "output_type": "stream",
          "name": "stdout",
          "text": [
            "6.708203932499369\n"
          ]
        }
      ]
    },
    {
      "cell_type": "code",
      "source": [
        "# 9. Індекс 5-го повторення числа 1\n",
        "x = np.array([1, 2, 1, 1, 3, 4, 3, 1, 1, 2, 1, 1, 2])\n",
        "idx = np.where(x == 1)[0][4]\n",
        "print(idx)"
      ],
      "metadata": {
        "colab": {
          "base_uri": "https://localhost:8080/"
        },
        "id": "sdoyvsrubh1e",
        "outputId": "a30cef68-1412-4300-c66a-c42ac8674c52"
      },
      "execution_count": 9,
      "outputs": [
        {
          "output_type": "stream",
          "name": "stdout",
          "text": [
            "8\n"
          ]
        }
      ]
    },
    {
      "cell_type": "code",
      "source": [
        "# 10. Знайдіть повтори (з 2-го і далі)\n",
        "np.random.seed(100)\n",
        "a = np.random.randint(0, 5, 10)\n",
        "print(\"Input a:\", a)\n",
        "\n",
        "uniq, idx, counts = np.unique(a, return_index=True, return_counts=True)\n",
        "out = np.zeros_like(a, dtype=bool)\n",
        "\n",
        "# працюємо з унікальними значеннями\n",
        "for i in uniq[counts > 1]:\n",
        "    inds = np.where(a == i)[0]\n",
        "    out[inds[1:]] = True\n",
        "\n",
        "print(out)\n"
      ],
      "metadata": {
        "colab": {
          "base_uri": "https://localhost:8080/"
        },
        "id": "c8RUmJcYbjQ8",
        "outputId": "cdeeafb2-3514-4e39-c18a-6bef790d3e37"
      },
      "execution_count": 11,
      "outputs": [
        {
          "output_type": "stream",
          "name": "stdout",
          "text": [
            "Input a: [0 0 3 0 2 4 2 2 2 2]\n",
            "[False  True False  True False False  True  True  True  True]\n"
          ]
        }
      ]
    }
  ]
}